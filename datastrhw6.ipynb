{
  "nbformat": 4,
  "nbformat_minor": 0,
  "metadata": {
    "colab": {
      "provenance": [],
      "authorship_tag": "ABX9TyPKeL0Famser38Xuv8PVdmd",
      "include_colab_link": true
    },
    "kernelspec": {
      "name": "python3",
      "display_name": "Python 3"
    },
    "language_info": {
      "name": "python"
    }
  },
  "cells": [
    {
      "cell_type": "markdown",
      "metadata": {
        "id": "view-in-github",
        "colab_type": "text"
      },
      "source": [
        "<a href=\"https://colab.research.google.com/github/sushanthum616/datastructure/blob/main/datastrhw6.ipynb\" target=\"_parent\"><img src=\"https://colab.research.google.com/assets/colab-badge.svg\" alt=\"Open In Colab\"/></a>"
      ]
    },
    {
      "cell_type": "code",
      "execution_count": 1,
      "metadata": {
        "colab": {
          "base_uri": "https://localhost:8080/"
        },
        "id": "6IQtUHKTBzbE",
        "outputId": "99a2a08c-472c-418a-f0d5-203922647fc0"
      },
      "outputs": [
        {
          "output_type": "stream",
          "name": "stdout",
          "text": [
            "1\n",
            "10\n",
            "11\n",
            "100\n",
            "101\n",
            "110\n",
            "111\n"
          ]
        }
      ],
      "source": [
        "#question no 1\n",
        "from queue import Queue\n",
        "\n",
        "def generate_binary_numbers(n):\n",
        "    q = Queue()\n",
        "    q.put(\"1\")\n",
        "    while n > 0:\n",
        "        n -= 1\n",
        "        s1 = q.get()\n",
        "        print(s1)\n",
        "        s2 = s1\n",
        "        q.put(s1 + \"0\")\n",
        "        q.put(s2 + \"1\")\n",
        "generate_binary_numbers(7)\n"
      ]
    },
    {
      "cell_type": "code",
      "source": [
        "#question no .2\n",
        "from queue import Queue\n",
        "\n",
        "class Stack:\n",
        "    def __init__(self):\n",
        "        self.q = Queue()\n",
        "\n",
        "    def push(self, x):\n",
        "        self.q.put(x)\n",
        "\n",
        "        # Recursive function to move all elements except the last one to the back of the queue\n",
        "        def move_to_back():\n",
        "            if self.q.qsize() > 1:\n",
        "                front = self.q.get()\n",
        "                move_to_back()\n",
        "                self.q.put(front)\n",
        "\n",
        "        # Call the recursive function to move all elements except the last one to the back of the queue\n",
        "        move_to_back()\n",
        "\n",
        "    def pop(self):\n",
        "        return self.q.get() if not self.q.empty() else None\n",
        "\n",
        "stack = Stack()\n",
        "stack.push(1)\n",
        "stack.push(2)\n",
        "stack.push(3)\n",
        "\n",
        "print(stack.pop()) # 3\n",
        "print(stack.pop()) # 2\n",
        "print(stack.pop()) # 1\n",
        "print(stack.pop()) # None\n",
        "\n"
      ],
      "metadata": {
        "colab": {
          "base_uri": "https://localhost:8080/"
        },
        "id": "IlBkGVPDCu_8",
        "outputId": "227fc405-090f-487d-c697-696386798244"
      },
      "execution_count": 7,
      "outputs": [
        {
          "output_type": "stream",
          "name": "stdout",
          "text": [
            "3\n",
            "1\n",
            "2\n",
            "None\n"
          ]
        }
      ]
    },
    {
      "cell_type": "code",
      "source": [
        "#question no 3\n",
        "class PriorityQueue:\n",
        "    def __init__(self):\n",
        "        self.queue = []\n",
        "\n",
        "    def push(self, element):\n",
        "        # Add the element to the queue with its priority\n",
        "        priority = ord(element)  # Get the ASCII code value of the element\n",
        "        self.queue.append((element, priority))\n",
        "\n",
        "        # Sort the queue in descending order of priority\n",
        "        self.queue.sort(key=lambda x: x[1], reverse=True)\n",
        "\n",
        "    def pop(self):\n",
        "        # Dequeue the element with the highest priority\n",
        "        if len(self.queue) > 0:\n",
        "            element = self.queue.pop(0)[0]\n",
        "            return element\n",
        "        else:\n",
        "            return None\n",
        "pq = PriorityQueue()\n",
        "pq.push('c')\n",
        "pq.push('b')\n",
        "pq.push('a')\n",
        "\n",
        "print(pq.pop())  # Output: 'a'\n",
        "print(pq.pop())  # Output: 'b'\n",
        "print(pq.pop())  # Output: 'c'\n",
        "print(pq.pop())  # Output: None\n"
      ],
      "metadata": {
        "colab": {
          "base_uri": "https://localhost:8080/"
        },
        "id": "_AnOHY-GED3d",
        "outputId": "deb93c84-d03c-4dd5-f8ef-c9b09ac5f8a2"
      },
      "execution_count": 6,
      "outputs": [
        {
          "output_type": "stream",
          "name": "stdout",
          "text": [
            "c\n",
            "b\n",
            "a\n",
            "None\n"
          ]
        }
      ]
    },
    {
      "cell_type": "code",
      "source": [
        "#question no 4\n",
        "class CircularQueue:\n",
        "    def __init__(self, size):\n",
        "        self.size = size\n",
        "        self.queue = [None] * size\n",
        "        self.front = -1\n",
        "        self.rear = -1\n",
        "\n",
        "    def is_empty(self):\n",
        "        return self.front == -1\n",
        "\n",
        "    def is_full(self):\n",
        "        return (self.rear + 1) % self.size == self.front\n",
        "\n",
        "    def enqueue(self, data):\n",
        "        if self.is_full():\n",
        "            print(\"Circular queue is full.\")\n",
        "            return\n",
        "        elif self.is_empty():\n",
        "            self.front = 0\n",
        "            self.rear = 0\n",
        "        else:\n",
        "            self.rear = (self.rear + 1) % self.size\n",
        "        self.queue[self.rear] = data\n",
        "\n",
        "    def dequeue(self):\n",
        "        if self.is_empty():\n",
        "            print(\"Circular queue is empty.\")\n",
        "            return None\n",
        "        elif self.front == self.rear:\n",
        "            temp = self.queue[self.front]\n",
        "            self.front = -1\n",
        "            self.rear = -1\n",
        "            return temp\n",
        "        else:\n",
        "            temp = self.queue[self.front]\n",
        "            self.front = (self.front + 1) % self.size\n",
        "            return temp\n",
        "\n",
        "    def get_num_elements(self):\n",
        "        return (self.size + self.rear - self.front) % self.size\n",
        "\n",
        "\n",
        "# Example usage of the CircularQueue class and the getNumElem function\n",
        "cq = CircularQueue(5)\n",
        "print(\"Circular queue is empty:\", cq.is_empty())\n",
        "print(\"Circular queue is full:\", cq.is_full())\n",
        "cq.enqueue(10)\n",
        "cq.enqueue(20)\n",
        "cq.enqueue(30)\n",
        "print(\"Number of elements in queue:\", cq.get_num_elements())\n",
        "print(\"Front of queue:\", cq.front)\n",
        "print(\"Rear of queue:\", cq.rear)\n",
        "print(\"Circular queue is empty:\", cq.is_empty())\n",
        "print(\"Circular queue is full:\", cq.is_full())\n",
        "print(\"Dequeuing element:\", cq.dequeue())\n",
        "print(\"Dequeuing element:\", cq.dequeue())\n",
        "print(\"Number of elements in queue:\", cq.get_num_elements())\n",
        "print(\"Front of queue:\", cq.front)\n",
        "print(\"Rear of queue:\", cq.rear)\n",
        "cq.enqueue(40)\n",
        "cq.enqueue(50)\n",
        "cq.enqueue(60)\n",
        "print(\"Number of elements in queue:\", cq.get_num_elements())\n",
        "print(\"Front of queue:\", cq.front)\n",
        "print(\"Rear of queue:\", cq.rear)\n",
        "print(\"Circular queue is empty:\", cq.is_empty())\n",
        "print(\"Circular queue is full:\", cq.is_full())\n",
        "print(\"Dequeuing element:\", cq.dequeue())\n",
        "print(\"Dequeuing element:\", cq.dequeue())\n",
        "print(\"Dequeuing element:\", cq.dequeue())\n",
        "print(\"Dequeuing element:\", cq.dequeue())\n",
        "print(\"Number of elements in queue:\", cq.get_num_elements())\n",
        "print(\"Front of queue:\", cq.front)\n",
        "print(\"Rear of queue:\", cq.rear)\n",
        "\n"
      ],
      "metadata": {
        "colab": {
          "base_uri": "https://localhost:8080/"
        },
        "id": "3FoCEriIIpHr",
        "outputId": "ca4bdf3e-ce7e-4c19-d175-a2eaaff4c590"
      },
      "execution_count": 8,
      "outputs": [
        {
          "output_type": "stream",
          "name": "stdout",
          "text": [
            "2\n"
          ]
        }
      ]
    }
  ]
}