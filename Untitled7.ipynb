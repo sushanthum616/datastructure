{
  "nbformat": 4,
  "nbformat_minor": 0,
  "metadata": {
    "colab": {
      "provenance": [],
      "authorship_tag": "ABX9TyOfaVbKm13eggV7UAJJSaoN",
      "include_colab_link": true
    },
    "kernelspec": {
      "name": "python3",
      "display_name": "Python 3"
    },
    "language_info": {
      "name": "python"
    }
  },
  "cells": [
    {
      "cell_type": "markdown",
      "metadata": {
        "id": "view-in-github",
        "colab_type": "text"
      },
      "source": [
        "<a href=\"https://colab.research.google.com/github/sushanthum616/datastructure/blob/main/Untitled7.ipynb\" target=\"_parent\"><img src=\"https://colab.research.google.com/assets/colab-badge.svg\" alt=\"Open In Colab\"/></a>"
      ]
    },
    {
      "cell_type": "code",
      "execution_count": 22,
      "metadata": {
        "colab": {
          "base_uri": "https://localhost:8080/"
        },
        "id": "Gcnv9oThGMNz",
        "outputId": "91d514c5-fd28-482f-a80a-cc09ff3ccd9d"
      },
      "outputs": [
        {
          "output_type": "stream",
          "name": "stdout",
          "text": [
            "12\n",
            "2\n",
            "15\n",
            "1\n",
            "18\n",
            "3\n",
            "21\n"
          ]
        }
      ],
      "source": [
        "#question 1\n",
        "class TreeNode:\n",
        "    def __init__(self, val=0, left=None, right=None):\n",
        "        self.val = val\n",
        "        self.left = left\n",
        "        self.right = right\n",
        "\n",
        "def triple_leaves(root):\n",
        "    queue = [root]\n",
        "    while queue:\n",
        "        node = queue.pop(0)\n",
        "        if not node.left and not node.right:\n",
        "            node.val *= 3\n",
        "        if node.left:\n",
        "            queue.append(node.left)\n",
        "        if node.right:\n",
        "            queue.append(node.right)\n",
        "    return root\n",
        "root = TreeNode(1,\n",
        "                TreeNode(2,\n",
        "                         TreeNode(4),\n",
        "                         TreeNode(5)),\n",
        "                TreeNode(3,\n",
        "                         TreeNode(6),\n",
        "                         TreeNode(7)))\n",
        "\n",
        "updated_tree = triple_leaves(root)\n",
        "\n",
        "# Print the values of all nodes in the updated tree\n",
        "def traverse_tree(node):\n",
        "    if node is None:\n",
        "        return\n",
        "    traverse_tree(node.left)\n",
        "    print(node.val)\n",
        "    traverse_tree(node.right)\n",
        "\n",
        "traverse_tree(updated_tree)\n"
      ]
    },
    {
      "cell_type": "code",
      "source": [
        "#question no 2\n",
        "class FibonacciTree:\n",
        "    def __init__(self, value, left=None, right=None):\n",
        "        self.value = value\n",
        "        self.left = left\n",
        "        self.right = right\n",
        "\n",
        "    @staticmethod\n",
        "    def Fib_tree(n):\n",
        "        if n <= 0:\n",
        "            return None\n",
        "        if n == 1:\n",
        "            return FibonacciTree(0)\n",
        "        if n == 2:\n",
        "            return FibonacciTree(1)\n",
        "\n",
        "        left = FibonacciTree.Fib_tree(n - 1)\n",
        "        right = FibonacciTree.Fib_tree(n - 2)\n",
        "        return FibonacciTree(left.value + right.value, left, right)\n",
        "fib_tree_6 = FibonacciTree.Fib_tree(6)\n",
        "fib_tree_7 = FibonacciTree.Fib_tree(7)\n",
        "\n",
        "# Print the values of the Fibonacci trees\n",
        "def traverse_tree(node):\n",
        "    if node is None:\n",
        "        return\n",
        "    print(node.value)\n",
        "    traverse_tree(node.left)\n",
        "    traverse_tree(node.right)\n",
        "\n",
        "print(\"Fibonacci tree for n = 6:\")\n",
        "traverse_tree(fib_tree_6)\n",
        "\n",
        "print(\"Fibonacci tree for n = 7:\")\n",
        "traverse_tree(fib_tree_7)\n"
      ],
      "metadata": {
        "colab": {
          "base_uri": "https://localhost:8080/"
        },
        "id": "uTZw9_b3QECf",
        "outputId": "92c15c90-3a34-47cf-8543-fba797dcb07d"
      },
      "execution_count": 25,
      "outputs": [
        {
          "output_type": "stream",
          "name": "stdout",
          "text": [
            "Fibonacci tree for n = 6:\n",
            "5\n",
            "3\n",
            "2\n",
            "1\n",
            "1\n",
            "0\n",
            "1\n",
            "1\n",
            "1\n",
            "0\n",
            "2\n",
            "1\n",
            "1\n",
            "0\n",
            "1\n",
            "Fibonacci tree for n = 7:\n",
            "8\n",
            "5\n",
            "3\n",
            "2\n",
            "1\n",
            "1\n",
            "0\n",
            "1\n",
            "1\n",
            "1\n",
            "0\n",
            "2\n",
            "1\n",
            "1\n",
            "0\n",
            "1\n",
            "3\n",
            "2\n",
            "1\n",
            "1\n",
            "0\n",
            "1\n",
            "1\n",
            "1\n",
            "0\n"
          ]
        }
      ]
    },
    {
      "cell_type": "code",
      "source": [
        "#question no 3\n",
        "class TreeNode:\n",
        "    def __init__(self, val=0, left=None, right=None):\n",
        "        self.val = val\n",
        "        self.left = left\n",
        "        self.right = right\n",
        "        \n",
        "def prune_tree(root, k):\n",
        "    if not root:\n",
        "        return None\n",
        "    \n",
        "    if k == 0:\n",
        "        return None\n",
        "    \n",
        "    # Create a new node with the same value as the root\n",
        "    new_root = TreeNode(root.val)\n",
        "    \n",
        "    # Recursively prune the left and right subtrees\n",
        "    new_root.left = prune_tree(root.left, k-1)\n",
        "    new_root.right = prune_tree(root.right, k-1)\n",
        "    \n",
        "    return new_root\n",
        "# Create the original binary tree\n",
        "\n",
        "t = TreeNode(1,\n",
        "             TreeNode(2,\n",
        "                      TreeNode(4),\n",
        "                      TreeNode(5)),\n",
        "             TreeNode(3,\n",
        "                      TreeNode(6),\n",
        "                      TreeNode(7,\n",
        "                               TreeNode(8),\n",
        "                               TreeNode(9))))\n",
        "\n",
        "# Prune the tree to the first 3 levels\n",
        "pruned_tree = prune_tree(t, 3)\n",
        "\n",
        "print(pruned_tree.val)\n",
        "print(pruned_tree.left.val, pruned_tree.right.val)\n",
        "print(pruned_tree.left.left.val, pruned_tree.left.right.val, pruned_tree.right.left.val, pruned_tree.right.right.val)\n",
        "\n"
      ],
      "metadata": {
        "colab": {
          "base_uri": "https://localhost:8080/"
        },
        "id": "3EQcH6Gu1T7g",
        "outputId": "852693a5-03c5-4276-8483-1cb1807abbf5"
      },
      "execution_count": 18,
      "outputs": [
        {
          "output_type": "stream",
          "name": "stdout",
          "text": [
            "1\n",
            "2 3\n",
            "4 5 6 7\n"
          ]
        }
      ]
    },
    {
      "cell_type": "code",
      "source": [
        "#question no 4\n",
        "class TreeNode:\n",
        "    def __init__(self, val=0, left=None, right=None):\n",
        "        self.val = val\n",
        "        self.left = left\n",
        "        self.right = right\n",
        "\n",
        "def evaluate(root):\n",
        "    def evaluate_helper(node):\n",
        "        # If the node is a leaf, return its value\n",
        "        if not node.left and not node.right:\n",
        "            return node.val\n",
        "\n",
        "        # Evaluate the left and right subtrees recursively\n",
        "        left_value = evaluate_helper(node.left)\n",
        "        right_value = evaluate_helper(node.right)\n",
        "\n",
        "        # Perform the arithmetic operation based on the operator at the node\n",
        "        return operator_map[node.val](left_value, right_value)\n",
        "\n",
        "    # Define a dictionary to map operator symbols to corresponding arithmetic operations\n",
        "    operator_map = {\n",
        "        '+': lambda x, y: x + y,\n",
        "        '-': lambda x, y: x - y,\n",
        "        '*': lambda x, y: x * y,\n",
        "        '/': lambda x, y: x / y,\n",
        "        '//': lambda x, y: x // y,\n",
        "        '%': lambda x, y: x % y,\n",
        "        '**': lambda x, y: x ** y\n",
        "    }\n",
        "\n",
        "    # Call the helper function to recursively evaluate the tree\n",
        "    return evaluate_helper(root)\n",
        "\n",
        "# Create the binary tree for the expression: 3 + ((5+9)*2)\n",
        "t = TreeNode('+',\n",
        "             TreeNode(3),\n",
        "             TreeNode('*',\n",
        "                      TreeNode('+', TreeNode(5), TreeNode(9)),\n",
        "                      TreeNode(2)))\n",
        "\n",
        "# Evaluate the expression\n",
        "result = evaluate(t)\n",
        "\n",
        "print(result)\n"
      ],
      "metadata": {
        "colab": {
          "base_uri": "https://localhost:8080/"
        },
        "id": "4EddYl1N9h9z",
        "outputId": "dd72c482-b54b-4a1f-f3fd-6484943c762d"
      },
      "execution_count": 24,
      "outputs": [
        {
          "output_type": "stream",
          "name": "stdout",
          "text": [
            "31\n"
          ]
        }
      ]
    }
  ]
}