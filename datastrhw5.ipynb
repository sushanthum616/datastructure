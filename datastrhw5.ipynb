{
  "nbformat": 4,
  "nbformat_minor": 0,
  "metadata": {
    "colab": {
      "provenance": [],
      "authorship_tag": "ABX9TyOWKxcXd0iKT8JrG/tEStNl",
      "include_colab_link": true
    },
    "kernelspec": {
      "name": "python3",
      "display_name": "Python 3"
    },
    "language_info": {
      "name": "python"
    }
  },
  "cells": [
    {
      "cell_type": "markdown",
      "metadata": {
        "id": "view-in-github",
        "colab_type": "text"
      },
      "source": [
        "<a href=\"https://colab.research.google.com/github/sushanthum616/datastructure/blob/main/datastrhw5.ipynb\" target=\"_parent\"><img src=\"https://colab.research.google.com/assets/colab-badge.svg\" alt=\"Open In Colab\"/></a>"
      ]
    },
    {
      "cell_type": "code",
      "execution_count": 2,
      "metadata": {
        "colab": {
          "base_uri": "https://localhost:8080/"
        },
        "id": "Ra31MhAx_1zx",
        "outputId": "f31cb2bb-2985-4129-de48-fa43c68dae1b"
      },
      "outputs": [
        {
          "output_type": "stream",
          "name": "stdout",
          "text": [
            "['o', 'r', 's', 't']\n"
          ]
        }
      ],
      "source": [
        "#question no 1\n",
        "def sort_stack(stack):\n",
        "    if not stack:\n",
        "        return stack\n",
        "\n",
        "    top = stack.pop()\n",
        "    sort_stack(stack)\n",
        "    insert_sorted(stack, top)\n",
        "\n",
        "def insert_sorted(stack, value):\n",
        "    if not stack or value > stack[-1]:\n",
        "        stack.append(value)\n",
        "    else:\n",
        "        top = stack.pop()\n",
        "        insert_sorted(stack, value)\n",
        "        stack.append(top)\n",
        "stack = ['s', 'o', 'r', 't']\n",
        "sort_stack(stack)\n",
        "print(stack)\n"
      ]
    },
    {
      "cell_type": "code",
      "source": [
        "#question no 2\n",
        "def get_next_bigger_values(stck):\n",
        "    n = len(stck)\n",
        "    next_bigger = [None] * n\n",
        "    stack = []\n",
        "    for i in range(n):\n",
        "        while stack and stck[i] > stck[stack[-1]]:\n",
        "            j = stack.pop()\n",
        "            next_bigger[j] = stck[i]\n",
        "        stack.append(i)\n",
        "    return next_bigger\n",
        "stck = [5, 3, 2, 10, 6, 8, 1, 4, 12, 7, 4]\n",
        "next_bigger = get_next_bigger_values(stck)\n",
        "for i, val in enumerate(stck):\n",
        "    print(val, \"->\", next_bigger[i], end=\", \")\n"
      ],
      "metadata": {
        "colab": {
          "base_uri": "https://localhost:8080/"
        },
        "id": "nWFsLgNfHLw7",
        "outputId": "2865f58b-acdc-461f-8b88-71d38e475959"
      },
      "execution_count": null,
      "outputs": [
        {
          "output_type": "stream",
          "name": "stdout",
          "text": [
            "5 -> 10, 3 -> 10, 2 -> 10, 10 -> 12, 6 -> 8, 8 -> 12, 1 -> 4, 4 -> 12, 12 -> None, 7 -> None, 4 -> None, "
          ]
        }
      ]
    },
    {
      "cell_type": "code",
      "source": [
        "#question no 3\n",
        "def find_consecutive_pairs(stack):\n",
        "    result = []\n",
        "    prev = None\n",
        "    while stack:\n",
        "        curr = stack.pop()\n",
        "        if prev is not None and prev == curr + 1:\n",
        "            result.append((curr, prev))\n",
        "        elif prev is not None and curr == prev + 1:\n",
        "            result.append((prev, curr))\n",
        "        prev = curr\n",
        "    result.reverse()\n",
        "    return result\n",
        "\n",
        "# Example usage\n",
        "stack = [4, 5, -2, -3, 11, 10, 5, 6, 20]\n",
        "consecutive_pairs = find_consecutive_pairs(stack)\n",
        "if consecutive_pairs:\n",
        "    print(\"Consecutive pairs found:\")\n",
        "    for pair in consecutive_pairs:\n",
        "        print(pair)\n",
        "else:\n",
        "    print(\"No consecutive pairs found.\")\n"
      ],
      "metadata": {
        "colab": {
          "base_uri": "https://localhost:8080/"
        },
        "id": "XZ4QeASENcCD",
        "outputId": "ab31207e-f12b-45d7-964a-a2dc399713a9"
      },
      "execution_count": null,
      "outputs": [
        {
          "output_type": "stream",
          "name": "stdout",
          "text": [
            "Consecutive pairs found:\n",
            "(4, 5)\n",
            "(-3, -2)\n",
            "(10, 11)\n",
            "(5, 6)\n"
          ]
        }
      ]
    },
    {
      "cell_type": "code",
      "source": [
        "#question no 4\n",
        "def rewrite_expression(expression):\n",
        "    stack = []\n",
        "    result = \"\"\n",
        "    for i in expression:\n",
        "        if i == \" \":\n",
        "            continue\n",
        "        elif i == \"(\":\n",
        "            stack.append(result)\n",
        "            result = \"\"\n",
        "        elif i == \")\":\n",
        "            if len(stack) > 0:\n",
        "                prev = stack.pop()\n",
        "                prev += result.replace(\"+\", \"-\").replace(\"-\", \"+\")\n",
        "                result = prev\n",
        "        else:\n",
        "            result += i\n",
        "    return result\n",
        "\n",
        "\n",
        "expression1 = \"x - (y - z - (u+v)) - w\"\n",
        "rewritten1 = rewrite_expression(expression1)\n",
        "print(\"Original Expression 1: \", expression1)\n",
        "print(\"Rewritten Expression 1: \", rewritten1)\n"
      ],
      "metadata": {
        "colab": {
          "base_uri": "https://localhost:8080/"
        },
        "id": "-xW-R8sx-E8h",
        "outputId": "c2d1da64-53c0-4df2-d1b3-2a7467a76dc5"
      },
      "execution_count": 16,
      "outputs": [
        {
          "output_type": "stream",
          "name": "stdout",
          "text": [
            "Original Expression 1:  x - (y - z - (u+v)) - w\n",
            "Rewritten Expression 1:  x-y+z+u+v-w\n"
          ]
        }
      ]
    }
  ]
}