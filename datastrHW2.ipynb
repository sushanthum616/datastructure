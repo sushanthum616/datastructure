{
  "nbformat": 4,
  "nbformat_minor": 0,
  "metadata": {
    "colab": {
      "provenance": [],
      "authorship_tag": "ABX9TyOy9ERS8M187ToHY8Neanxb",
      "include_colab_link": true
    },
    "kernelspec": {
      "name": "python3",
      "display_name": "Python 3"
    },
    "language_info": {
      "name": "python"
    }
  },
  "cells": [
    {
      "cell_type": "markdown",
      "metadata": {
        "id": "view-in-github",
        "colab_type": "text"
      },
      "source": [
        "<a href=\"https://colab.research.google.com/github/sushanthum616/datastructure/blob/main/datastrHW2.ipynb\" target=\"_parent\"><img src=\"https://colab.research.google.com/assets/colab-badge.svg\" alt=\"Open In Colab\"/></a>"
      ]
    },
    {
      "cell_type": "code",
      "execution_count": 3,
      "metadata": {
        "colab": {
          "base_uri": "https://localhost:8080/"
        },
        "id": "5q5uXOYS6ZqJ",
        "outputId": "184c32a8-df22-40cc-c316-99e611acda3c"
      },
      "outputs": [
        {
          "output_type": "stream",
          "name": "stdout",
          "text": [
            "A A C D G "
          ]
        }
      ],
      "source": [
        "#question no.1\n",
        "class Node:\n",
        "    def __init__(self, data):\n",
        "        self.data = data\n",
        "        self.next = None\n",
        "\n",
        "def sort_linked_list(a): # define head as a.\n",
        "\n",
        "    if not a or not a.next:\n",
        "        return a\n",
        "\n",
        "    # Split the linked list into two halves\n",
        "    mid = get_middle(a)\n",
        "    left = a\n",
        "    right = mid.next\n",
        "    mid.next = None\n",
        "\n",
        "    # Recursively sort each half of the linked list\n",
        "    left_sorted = sort_linked_list(left)\n",
        "    right_sorted = sort_linked_list(right)\n",
        "\n",
        "    # Merge the sorted halves into a single linked list\n",
        "    sorted_list = merge(left_sorted, right_sorted)\n",
        "\n",
        "    return sorted_list\n",
        "\n",
        "def get_middle(a):\n",
        "    # Use slow and fast pointers to find the middle node\n",
        "    x = a\n",
        "    y = a\n",
        "    while y.next and y.next.next:\n",
        "        x = x.next\n",
        "        y = y.next.next\n",
        "    return x\n",
        "\n",
        "def merge(left, right):\n",
        "    dummy_a = Node(None)\n",
        "    curr = dummy_a\n",
        "    while left and right:\n",
        "        if left.data < right.data:\n",
        "            curr.next = left\n",
        "            left = left.next\n",
        "        else:\n",
        "            curr.next = right\n",
        "            right = right.next\n",
        "        curr = curr.next\n",
        "    curr.next = left or right\n",
        "    return dummy_a.next\n",
        "\n",
        "a = Node('D')\n",
        "a.next = Node('A')\n",
        "a.next.next = Node('C')\n",
        "a.next.next.next = Node('A')\n",
        "a.next.next.next.next = Node('G')\n",
        "\n",
        "\n",
        "sorted_a = sort_linked_list(a)\n",
        "\n",
        "\n",
        "curr = sorted_a\n",
        "while curr:\n",
        "    print(curr.data, end=' ')\n",
        "    curr = curr.next\n",
        "\n"
      ]
    },
    {
      "cell_type": "code",
      "source": [
        "#question no.2\n",
        "class ListNode:\n",
        "    def __init__(self, val=0, next=None):\n",
        "        self.val = val\n",
        "        self.next = next\n",
        "\n",
        "# Define the first linked list \n",
        "u = ListNode(1)\n",
        "u.next = ListNode(2)\n",
        "u.next.next = ListNode(3)\n",
        "u.next.next.next = ListNode(4)\n",
        "\n",
        "# Define the second linked list\n",
        "v = ListNode(5)\n",
        "v.next = ListNode(6)\n",
        "v.next.next = ListNode(7)\n",
        "v.next.next.next = ListNode(8)\n",
        "\n",
        "#add fuction to add \n",
        "def LL_add(u, v):\n",
        "    num1 = 0\n",
        "    num2 = 0\n",
        "    while u is not None:\n",
        "        num1 = num1 * 10 + u.val\n",
        "        u = u.next\n",
        "    while v is not None:\n",
        "        num2 = num2 * 10 + v.val\n",
        "        v = v.next\n",
        "    return num1 + num2\n",
        "\n",
        "result = LL_add(u, v)\n",
        "print(result)  \n"
      ],
      "metadata": {
        "colab": {
          "base_uri": "https://localhost:8080/"
        },
        "id": "T3hIZa6DGlbe",
        "outputId": "27417c6e-2596-4115-b429-3b9723ee94f1"
      },
      "execution_count": 28,
      "outputs": [
        {
          "output_type": "stream",
          "name": "stdout",
          "text": [
            "6912\n"
          ]
        }
      ]
    },
    {
      "cell_type": "code",
      "source": [
        "#question no.3\n",
        "class Node:\n",
        "    def __init__(self, data):\n",
        "        self.data = data\n",
        "        self.next = None\n",
        "\n",
        "def createCircularLinkedList(N):\n",
        "    head = None\n",
        "    prev = None\n",
        "    for i in range(N):\n",
        "        new_node = Node(i)\n",
        "        if not head:\n",
        "            head = new_node\n",
        "        else:\n",
        "            prev.next = new_node\n",
        "        prev = new_node\n",
        "    prev.next = head\n",
        "    return head\n",
        "\n",
        "def findLastMonkey(N, M):\n",
        "    head = createCircularLinkedList(N)\n",
        "    ptr1 = head\n",
        "    ptr2 = head\n",
        "    while ptr1.next != ptr1:\n",
        "        count = 1\n",
        "        while count != M:\n",
        "            ptr1 = ptr2\n",
        "            ptr2 = ptr2.next\n",
        "            count += 1\n",
        "        ptr1.next = ptr2.next\n",
        "        ptr2 = ptr1.next\n",
        "    return ptr1.data\n",
        "\n",
        "if __name__ == \"__main__\":\n",
        "    N = int(input(\"Enter the total number of monkeys in the group: \"))\n",
        "    M = int(input(\"Enter the M value: \"))\n",
        "    last_monkey = findLastMonkey(N, M)\n",
        "    print(f\"The last monkey left is {last_monkey}\")\n"
      ],
      "metadata": {
        "colab": {
          "base_uri": "https://localhost:8080/"
        },
        "id": "qijkSmzYPTqf",
        "outputId": "7e9b9a9b-b3da-40dd-ecb6-7ebc61ac356e"
      },
      "execution_count": 34,
      "outputs": [
        {
          "output_type": "stream",
          "name": "stdout",
          "text": [
            "Enter the total number of monkeys in the group: 5\n",
            "Enter the M value: 3\n",
            "The last monkey left is 3\n"
          ]
        }
      ]
    },
    {
      "cell_type": "code",
      "source": [
        "#question no.4\n",
        "class Node:\n",
        "    def __init__(self, char):\n",
        "        self.char = char\n",
        "        self.next = None\n",
        "\n",
        "def common_chars(llist1, llist2):\n",
        "    char_set = set()\n",
        "    common_llist = None\n",
        "    common_tail = None\n",
        "    \n",
        "    # Traverse the first linked list and insert each character into a hash set.\n",
        "    current = llist1\n",
        "    while current is not None:\n",
        "        char_set.add(current.char)\n",
        "        current = current.next\n",
        "    \n",
        "    # Traverse the second linked list and check if each character is already in the hash set.\n",
        "    current = llist2\n",
        "    while current is not None:\n",
        "        if current.char in char_set:\n",
        "            # Add the character to a new linked list that will store the common characters.\n",
        "            if common_llist is None:\n",
        "                common_llist = Node(current.char)\n",
        "                common_tail = common_llist\n",
        "            else:\n",
        "                common_tail.next = Node(current.char)\n",
        "                common_tail = common_tail.next\n",
        "        current = current.next\n",
        "    \n",
        "    # Return the new linked list with the common characters.\n",
        "    return common_llist\n",
        "# Create the first linked list\n",
        "llist1 = Node('G')\n",
        "llist1.next = Node('O')\n",
        "llist1.next.next = Node('O')\n",
        "llist1.next.next.next = Node('D')\n",
        "\n",
        "# Create the second linked list\n",
        "llist2 = Node('G')\n",
        "llist2.next = Node('o')\n",
        "llist2.next.next = Node('O')\n",
        "llist2.next.next.next = Node('g')\n",
        "llist2.next.next.next.next = Node('L')\n",
        "llist2.next.next.next.next.next = Node('E')\n",
        "\n",
        "common_llist = common_chars(llist1, llist2)\n",
        "\n",
        "current = common_llist\n",
        "while current is not None:\n",
        "    print(current.char,end=\" \")\n",
        "    current = current.next\n"
      ],
      "metadata": {
        "colab": {
          "base_uri": "https://localhost:8080/"
        },
        "id": "_iW_Okn2UY78",
        "outputId": "5a25afac-ebc9-4979-ce4a-9fb4fc8cab93"
      },
      "execution_count": 44,
      "outputs": [
        {
          "output_type": "stream",
          "name": "stdout",
          "text": [
            "G O "
          ]
        }
      ]
    },
    {
      "cell_type": "code",
      "source": [
        "class Node:\n",
        "    def __init__(self, data):\n",
        "        self.data = data\n",
        "        self.next = None\n",
        "\n",
        "def DiffElem_LL(l, m):\n",
        "  \n",
        "    # Create two sets to store the characters in each linked list\n",
        "    set1 = set()\n",
        "    set2 = set()\n",
        "    current1 = l\n",
        "    current2 = m\n",
        "    while current1 or current2:\n",
        "        if current1:\n",
        "            set1.add(current1.data)\n",
        "            current1 = current1.next\n",
        "        if current2:\n",
        "            set2.add(current2.data)\n",
        "            current2 = current2.next\n",
        "    # Find the uncommon characters in both sets\n",
        "    uncommon_chars = set1.symmetric_difference(set2)\n",
        "    # Create a new linked list with the uncommon characters\n",
        "    new_head = None\n",
        "    current = None\n",
        "    for char in uncommon_chars:\n",
        "        if not new_head:\n",
        "            new_head = Node(char)\n",
        "            current = new_head\n",
        "        else:\n",
        "            current.next = Node(char)\n",
        "            current = current.next\n",
        "    return new_head\n",
        "\n",
        "# Create two linked lists\n",
        "l = Node('G')\n",
        "l.next = Node('O')\n",
        "l.next.next = Node('O')\n",
        "l.next.next.next = Node('D')\n",
        "\n",
        "m = Node('G')\n",
        "m.next = Node('o')\n",
        "m.next.next = Node('O')\n",
        "m.next.next.next = Node('g')\n",
        "m.next.next.next.next = Node('L')\n",
        "m.next.next.next.next.next = Node('E')\n",
        "\n",
        "# Find the uncommon characters and link them together\n",
        "new_head = DiffElem_LL(l, m)\n",
        "\n",
        "# Print the resulting linked list\n",
        "current = new_head\n",
        "while current:\n",
        "    print(current.data,end=\" \")\n",
        "    current = current.next\n",
        "\n"
      ],
      "metadata": {
        "colab": {
          "base_uri": "https://localhost:8080/"
        },
        "id": "JcccVIwor1kQ",
        "outputId": "07ef247e-633d-426b-8193-22c13695e995"
      },
      "execution_count": 18,
      "outputs": [
        {
          "output_type": "stream",
          "name": "stdout",
          "text": [
            "L o g D E "
          ]
        }
      ]
    },
    {
      "cell_type": "code",
      "source": [
        "#question no.6\n",
        "class Node:\n",
        "    def __init__(self, char):\n",
        "        self.char = char\n",
        "        self.next = None\n",
        "\n",
        "def detect_internal_loop(head):\n",
        "    fast = head\n",
        "    slow = head\n",
        "    loopexist = False\n",
        "    while fast and fast.next:\n",
        "        fast = fast.next.next\n",
        "        slow = slow.next\n",
        "        if fast == slow:\n",
        "            loopexist = True\n",
        "            break\n",
        "\n",
        "    if loopexist:\n",
        "        slow = head\n",
        "        while slow != fast:\n",
        "            slow = slow.next\n",
        "            fast = fast.next\n",
        "        return slow\n",
        "    return None\n",
        "\n",
        "head = Node('a')\n",
        "nodeB = Node('b')\n",
        "nodeC = Node('c')\n",
        "nodeD = Node('d')\n",
        "nodeE = Node('e')\n",
        "nodeF = Node('f')\n",
        "nodeG = Node('g')\n",
        "nodeH = Node('h')\n",
        "nodeI = Node('i')\n",
        "nodeJ = Node('j')\n",
        "\n",
        "head.next = nodeB\n",
        "nodeB.next = nodeC\n",
        "nodeC.next = nodeD\n",
        "nodeD.next = nodeE\n",
        "nodeE.next = nodeF\n",
        "nodeF.next = nodeG\n",
        "nodeG.next = nodeH\n",
        "nodeH.next = nodeI\n",
        "nodeI.next = nodeJ\n",
        "nodeJ.next = nodeD   # it shows internal loop\n",
        "\n",
        "cycle_node = detect_internal_loop(head)\n",
        "if cycle_node:\n",
        "    print(cycle_node.char)\n",
        "else:\n",
        "    print(\"No internal loop found.\")\n",
        "\n"
      ],
      "metadata": {
        "colab": {
          "base_uri": "https://localhost:8080/"
        },
        "id": "yKjfdxgII3ck",
        "outputId": "c9224990-8813-4966-bbf6-73be83e3c84a"
      },
      "execution_count": 6,
      "outputs": [
        {
          "output_type": "stream",
          "name": "stdout",
          "text": [
            "d\n"
          ]
        }
      ]
    },
    {
      "cell_type": "code",
      "source": [
        "#question no.7\n",
        "from re import L\n",
        "class Node:\n",
        "    def __init__(self, coef, exp):\n",
        "        self.coef = coef\n",
        "        self.exp = exp\n",
        "        self.next = None\n",
        "\n",
        "def multiply_poly(l, m):\n",
        "    if not l or not m:\n",
        "        return None\n",
        "\n",
        "    result = Node(0, 0)\n",
        "    temp = m\n",
        "    while temp:\n",
        "        # Multiply each term of poly2 with poly1\n",
        "        current = l\n",
        "        while current:\n",
        "            coef = temp.coef * current.coef\n",
        "            exp = temp.exp + current.exp\n",
        "            result = add_term(result, coef, exp)\n",
        "            current = current.next\n",
        "        temp = temp.next\n",
        "\n",
        "    # Remove any terms with a coefficient of 0\n",
        "    result = remove_zero_terms(result)\n",
        "    return result\n",
        "\n",
        "def add_term(poly, coef, exp):\n",
        "    if not poly:\n",
        "        return Node(coef, exp)\n",
        "\n",
        "    current = poly\n",
        "    prev = None\n",
        "    while current and current.exp > exp:\n",
        "        prev = current\n",
        "        current = current.next\n",
        "\n",
        "    if current and current.exp == exp:\n",
        "        current.coef += coef\n",
        "    else:\n",
        "        new_node = Node(coef, exp)\n",
        "        new_node.next = current\n",
        "        if prev:\n",
        "            prev.next = new_node\n",
        "        else:\n",
        "            poly = new_node\n",
        "\n",
        "    return poly\n",
        "\n",
        "def remove_zero_terms(poly):\n",
        "    current = poly\n",
        "    prev = None\n",
        "    while current:\n",
        "        if current.coef == 0:\n",
        "            if prev:\n",
        "                prev.next = current.next\n",
        "            else:\n",
        "                poly = current.next\n",
        "        prev = current\n",
        "        current = current.next\n",
        "    return poly\n",
        "# Create two polynomials\n",
        "l = Node(5, 2)\n",
        "l.next = Node(4, 1)\n",
        "l.next.next = Node(2, 0)\n",
        "\n",
        "m = Node(3, 1)\n",
        "m.next = Node(2, 0)\n",
        "\n",
        "# Multiply the polynomials\n",
        "result = multiply_poly(l, m)\n",
        "\n",
        "# Print the resulting polynomial\n",
        "current = result\n",
        "while current:\n",
        "    print(f\"{current.coef}x^{current.exp}\", end=\" + \" if current.next else \"\")\n",
        "    current = current.next\n"
      ],
      "metadata": {
        "colab": {
          "base_uri": "https://localhost:8080/"
        },
        "id": "dauq7WsVFNEo",
        "outputId": "0356a117-a562-4aa0-d696-9031df375d9a"
      },
      "execution_count": 11,
      "outputs": [
        {
          "output_type": "stream",
          "name": "stdout",
          "text": [
            "15x^3 + 22x^2 + 14x^1 + 4x^0"
          ]
        }
      ]
    }
  ]
}