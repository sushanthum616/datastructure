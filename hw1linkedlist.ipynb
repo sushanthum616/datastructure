{
  "nbformat": 4,
  "nbformat_minor": 0,
  "metadata": {
    "colab": {
      "provenance": [],
      "authorship_tag": "ABX9TyNb+/uCG6kfAIQIYBR6vThl",
      "include_colab_link": true
    },
    "kernelspec": {
      "name": "python3",
      "display_name": "Python 3"
    },
    "language_info": {
      "name": "python"
    }
  },
  "cells": [
    {
      "cell_type": "markdown",
      "metadata": {
        "id": "view-in-github",
        "colab_type": "text"
      },
      "source": [
        "<a href=\"https://colab.research.google.com/github/sushanthum616/datastructure/blob/main/hw1linkedlist.ipynb\" target=\"_parent\"><img src=\"https://colab.research.google.com/assets/colab-badge.svg\" alt=\"Open In Colab\"/></a>"
      ]
    },
    {
      "cell_type": "code",
      "execution_count": null,
      "metadata": {
        "colab": {
          "base_uri": "https://localhost:8080/"
        },
        "id": "o9vtJrQSd4BG",
        "outputId": "b02e9701-7875-4857-ce9e-0fbb0b69eef2"
      },
      "outputs": [
        {
          "output_type": "stream",
          "name": "stdout",
          "text": [
            "HEAD->2->3->NULL\n"
          ]
        }
      ],
      "source": [
        "#que no.1\n",
        "# class definition for Node object with data and next attributes\n",
        "class Node:\n",
        "    def __init__(self, data=0, next=None):\n",
        "        self.data = data   # initialize data for the node\n",
        "        self.next = next   # initialize next attribute to None\n",
        "\n",
        "# function to delete nodes with a specific key value\n",
        "def Delete_LinkList_Node(head, key):\n",
        "    dummy = Node(0)     # create a dummy node with data=0, next pointing to the original head\n",
        "    dummy.next = head   # set the next attribute of dummy node to original head\n",
        "    prev = dummy        # set prev to dummy node\n",
        "    curr = head         # set curr to the head of the linked list\n",
        "    while curr:\n",
        "        if curr.data == key: # if the current node's data equals the key\n",
        "            prev.next = curr.next # set the next attribute of prev node to the next of curr node\n",
        "        else:\n",
        "            prev = curr # set prev node to curr node\n",
        "        curr = curr.next  # move curr to the next node\n",
        "    return dummy.next  # return the next node of dummy node (the head of the modified linked list)\n",
        "\n",
        "# Define the linked list\n",
        "head = Node(1)  # head node with data=1\n",
        "head.next = Node(2)  # next node with data=2\n",
        "head.next.next = Node(1)  # next node with data=1\n",
        "head.next.next.next = Node(3)  # next node with data=3\n",
        "\n",
        "# Call the Delete_LinkList_Node function to delete nodes with key=1\n",
        "new_head = Delete_LinkList_Node(head, 1)\n",
        "\n",
        "# Print the linked list after removing all nodes with value 1\n",
        "print(\"HEAD->\", end=\"\")  # print \"HEAD->\" without newline\n",
        "curr = new_head  # set curr to the head of the modified linked list\n",
        "while curr:\n",
        "    print(curr.data, end=\"->\")  # print the current node's data and \"->\" without newline\n",
        "    curr = curr.next  # move curr to the next node\n",
        "print(\"NULL\")  # print \"NULL\" after the end of the linked list\n",
        "\n"
      ]
    },
    {
      "cell_type": "code",
      "source": [
        "#question no.2\n",
        "class Node:\n",
        "    def __init__(self, data):\n",
        "        self.data = data  \n",
        "\n",
        "class LinkedList:\n",
        "    def __init__(self):\n",
        "        self.head = Node(None)  # create a dummy node with data None, used as starting point for linked list\n",
        "        \n",
        "    def Delete_Dupl_Node(self):\n",
        "        if self.head is None:  # check if linked list is empty, return if true\n",
        "            return\n",
        "        \n",
        "        curr = self.head.next  # start at the first actual node after the dummy node\n",
        "        while curr:\n",
        "            runner = curr\n",
        "            while runner.next:  # keep moving runner forward while runner.next exists\n",
        "                if runner.next.data == curr.data:  # check if runner.next node has same data as curr node\n",
        "                    runner.next = runner.next.next  # remove runner.next node by making runner.next equal to runner.next.next\n",
        "                else:\n",
        "                    runner = runner.next  # move runner forward if runner.next data is not equal to curr.data\n",
        "            curr = curr.next  # move curr forward\n",
        "\n",
        "a = LinkedList()\n",
        "a.head.next = Node(3)  # add a node with data 3 after the dummy node\n",
        "a.Delete_Dupl_Node()  # call the function to remove duplicates in the linked list\n",
        "\n",
        "curr = a.head.next  # start at the first actual node after the dummy node\n",
        "result = \"Head->\"  # initialize result string with \"Head->\"\n",
        "while curr:\n",
        "    result += str(curr.data) + \"->\"  # add the data of curr node to the result string\n",
        "    curr = curr.next  # move curr forward\n",
        "\n",
        "result += \"NULL\"  # add \"NULL\" to the end of the result string to indicate the end of the linked list\n",
        "print(result)  # print the result string\n"
      ],
      "metadata": {
        "id": "hR8jq5qCiaRt",
        "outputId": "b890835d-90b9-437c-b9fb-a09e99a60b78",
        "colab": {
          "base_uri": "https://localhost:8080/"
        }
      },
      "execution_count": 10,
      "outputs": [
        {
          "output_type": "stream",
          "name": "stdout",
          "text": [
            "Head->3->NULL\n"
          ]
        }
      ]
    },
    {
      "cell_type": "code",
      "source": [
        "#que no 3\n",
        "class Node:\n",
        "    def __init__(self, data):\n",
        "        self.data = data  # initialize the node with data\n",
        "        self.next = None   # initialize the next pointer to None\n",
        "\n",
        "class LinkedList:\n",
        "    def __init__(self):\n",
        "        self.head = Node(None)  # create a dummy node with data None, used as starting point for linked list\n",
        "        \n",
        "    def Delete_Dupl_Node(self):\n",
        "        if self.head is None:  # check if linked list is empty, return if true\n",
        "            return\n",
        "        \n",
        "        curr = self.head.next  # start at the first actual node after the dummy node\n",
        "        while curr:\n",
        "            runner = curr\n",
        "            while runner.next:  # keep moving runner forward while runner.next exists\n",
        "                if runner.next.data == curr.data:  # check if runner.next node has same data as curr node\n",
        "                    runner.next = runner.next.next  # remove runner.next node by making runner.next equal to runner.next.next\n",
        "                else:\n",
        "                    runner = runner.next  # move runner forward if runner.next data is not equal to curr.data\n",
        "            curr = curr.next  # move curr forward\n",
        "\n",
        "a = LinkedList()  # create a LinkedList object\n",
        "a.head.next = Node(1)  # add a node with data 1 after the dummy node\n",
        "node2 = Node(2)  # create a Node object with data 2\n",
        "node3 = Node(1)  # create a Node object with data 1\n",
        "node4 = Node(3)  # create a Node object with data 3\n",
        "node5 = Node(2)  # create a Node object with data 2\n",
        "\n",
        "a.head.next.next = node2  # connect node2 after the first node\n",
        "node2.next = node3  # connect node3 after node2\n",
        "node3.next = node4  # connect node4 after node3\n",
        "node4.next = node5  # connect node5 after node4\n",
        "\n",
        "a.Delete_Dupl_Node()  # call the function to remove duplicates in the linked list\n",
        "\n",
        "curr = a.head.next  # start at the first actual node after the dummy node\n",
        "result = \"Head->\"  # initialize result string with \"Head->\"\n",
        "while curr:\n",
        "    result += str(curr.data) + \"->\"  # add the data of curr node to the result string\n",
        "    curr = curr.next  # move curr forward\n",
        "\n",
        "result += \"NULL\"  # add \"NULL\" to the end of the result string to indicate the end of the linked list\n",
        "print(result)  # print the result string\n",
        "\n"
      ],
      "metadata": {
        "id": "fLDGxXoVjKRX",
        "outputId": "9e51fb66-1eb6-4ee1-f988-412db7f5527a",
        "colab": {
          "base_uri": "https://localhost:8080/"
        }
      },
      "execution_count": 6,
      "outputs": [
        {
          "output_type": "stream",
          "name": "stdout",
          "text": [
            "Head->3->2->1->NULL\n"
          ]
        }
      ]
    },
    {
      "cell_type": "code",
      "source": [
        "#que no.4\n",
        "# Initialize a linked list class with a dummy node 'head'\n",
        "class Node:\n",
        "    def __init__(self, data):\n",
        "        self.data = data  \n",
        "\n",
        "class LinkedList:\n",
        "    def __init__(self):\n",
        "        self.head = Node(None)  # dummy node\n",
        "        \n",
        "    # Reverse the linked list\n",
        "    def Reverse_Node(self):\n",
        "        if self.head is None or self.head.next is None:\n",
        "            return  # list is empty or has only one node, no need to reverse\n",
        "        \n",
        "        prev = None  # keep track of the previous node\n",
        "        curr = self.head.next  # starting node, head points to None which is not part of the list\n",
        "        \n",
        "        # iterate through the linked list and reverse the 'next' pointer of each node\n",
        "        while curr:\n",
        "            next_node = curr.next  # store the next node before updating the 'next' pointer\n",
        "            curr.next = prev  # reverse the 'next' pointer to point to the previous node\n",
        "            prev = curr  # update the previous node to the current node\n",
        "            curr = next_node  # update the current node to the next node\n",
        "        \n",
        "        self.head.next = prev  # head should now point to the last node, which was previously the first node\n",
        "\n",
        "# Creating linked list with nodes 1 -> 2 -> 3\n",
        "a = LinkedList()\n",
        "a.head.next = Node(1)\n",
        "node2 = Node(2)\n",
        "node3 = Node(3)\n",
        "\n",
        "a.head.next.next = node2\n",
        "node2.next = node3\n",
        "\n",
        "a.Reverse_Node()  # reverse the linked list\n",
        "\n",
        "# Traverse and print the reversed linked list\n",
        "curr = a.head.next\n",
        "result = \"Head->\"\n",
        "while curr:\n",
        "    result += str(curr.data) + \"->\"\n",
        "    curr = curr.next\n",
        "\n",
        "result += \"NULL\"\n",
        "print(result)\n",
        "\n"
      ],
      "metadata": {
        "id": "qfVZiV0FkMoY",
        "outputId": "1fd6fc91-fa8b-4529-be5f-b1b9277cc4cc",
        "colab": {
          "base_uri": "https://localhost:8080/"
        }
      },
      "execution_count": 9,
      "outputs": [
        {
          "output_type": "stream",
          "name": "stdout",
          "text": [
            "Head->3->2->1->NULL\n"
          ]
        }
      ]
    },
    {
      "cell_type": "code",
      "source": [
        "#question no.5\n",
        "# Define a Node class with two attributes: val and next\n",
        "class Node:\n",
        "    def __init__(self, val):\n",
        "        self.val = val    # store the value of the node\n",
        "        self.next = None  # initialize next to None\n",
        "\n",
        "# Define a LinkedList class\n",
        "class LinkedList:\n",
        "    def __init__(self):\n",
        "        self.head = None  # initialize head to None\n",
        "        \n",
        "    # add_node method to add a new node to the linked list\n",
        "    def add_node(self, val):\n",
        "        # create a new node with the given value\n",
        "        new_node = Node(val)\n",
        "        \n",
        "        # if head is None, set the new node as the head of the linked list\n",
        "        if self.head is None:\n",
        "            self.head = new_node\n",
        "            return\n",
        "        \n",
        "        # iterate to the last node of the linked list\n",
        "        last = self.head\n",
        "        while last.next:\n",
        "            last = last.next\n",
        "        \n",
        "        # add the new node to the end of the linked list\n",
        "        last.next = new_node\n",
        "        \n",
        "    # average_list method to find the average value of the linked list\n",
        "    def average_list(self):\n",
        "        # if head is None, return 0\n",
        "        if self.head is None:\n",
        "            return 0\n",
        "        \n",
        "        # initialize curr with the head of the linked list\n",
        "        curr = self.head\n",
        "        \n",
        "        # initialize count and sum to 0\n",
        "        count = 0\n",
        "        sum = 0\n",
        "        \n",
        "        # iterate through all nodes in the linked list\n",
        "        while curr:\n",
        "            count += 1  # increment the count\n",
        "            sum += curr.val  # add the value of the node to the sum\n",
        "            curr = curr.next  # move to the next node\n",
        "        \n",
        "        # return the average value\n",
        "        return sum / count\n",
        "\n",
        "# create an instance of the LinkedList class\n",
        "a = LinkedList()\n",
        "\n",
        "# add three nodes with values 1, 2, and 3 to the linked list\n",
        "a.add_node(1)\n",
        "a.add_node(2)\n",
        "a.add_node(3)\n",
        "\n",
        "# print the average value of the linked list\n",
        "print(\"the average of the linklist is\", a.average_list())\n"
      ],
      "metadata": {
        "id": "meAwrC3o3Lcx"
      },
      "execution_count": null,
      "outputs": []
    }
  ]
}