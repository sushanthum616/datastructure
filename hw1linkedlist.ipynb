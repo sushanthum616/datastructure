{
  "nbformat": 4,
  "nbformat_minor": 0,
  "metadata": {
    "colab": {
      "provenance": [],
      "authorship_tag": "ABX9TyPfGOSRiLBAj8tNR1+V5Bo0",
      "include_colab_link": true
    },
    "kernelspec": {
      "name": "python3",
      "display_name": "Python 3"
    },
    "language_info": {
      "name": "python"
    }
  },
  "cells": [
    {
      "cell_type": "markdown",
      "metadata": {
        "id": "view-in-github",
        "colab_type": "text"
      },
      "source": [
        "<a href=\"https://colab.research.google.com/github/sushanthum616/datastructure/blob/main/hw1linkedlist.ipynb\" target=\"_parent\"><img src=\"https://colab.research.google.com/assets/colab-badge.svg\" alt=\"Open In Colab\"/></a>"
      ]
    },
    {
      "cell_type": "code",
      "execution_count": 12,
      "metadata": {
        "colab": {
          "base_uri": "https://localhost:8080/"
        },
        "id": "o9vtJrQSd4BG",
        "outputId": "c8acc453-99ea-40d6-d7a4-d29610bca9df"
      },
      "outputs": [
        {
          "output_type": "stream",
          "name": "stdout",
          "text": [
            "Original linked list:\n",
            "1 2 1 3 \n",
            "Linked list after deleting key element:\n",
            "2 3 \n"
          ]
        }
      ],
      "source": [
        "#que no.1\n",
        "class ListNode:\n",
        "    def __init__(self, val=0, next=None):\n",
        "        self.val = val\n",
        "        self.next = next\n",
        "\n",
        "def delete_key(head, key):\n",
        "  \n",
        "    if not head:\n",
        "        return None\n",
        "    \n",
        "   \n",
        "    head.next = delete_key(head.next, key)\n",
        "    \n",
        "   \n",
        "    if head.val == key:\n",
        "        return head.next\n",
        "    \n",
        "   \n",
        "    return head                        \n",
        "\n",
        "head = ListNode(1, ListNode(2, ListNode(1, ListNode(3))))\n",
        "print(\"Original linked list:\")\n",
        "current = head\n",
        "while current:\n",
        "    print(current.val, end=\" \")\n",
        "    current = current.next\n",
        "print()\n",
        "\n",
        "a = head \n",
        "head = delete_key(a, 1)\n",
        "print(\"Linked list after deleting key element:\")\n",
        "current = head\n",
        "while current:\n",
        "    print(current.val, end=\" \")\n",
        "    current = current.next\n",
        "print()\n",
        "\n"
      ]
    },
    {
      "cell_type": "code",
      "source": [
        "#que no 2.\n",
        "class Node:\n",
        "    def __init__(self, data=None):\n",
        "        self.data = data\n",
        "        self.next = None\n",
        "\n",
        "class LinkedList:\n",
        "    def __init__(self):\n",
        "        self.head = None\n",
        "\n",
        "    def append(self, data):\n",
        "        new_node = Node(data)\n",
        "        if not self.head:\n",
        "            self.head = new_node\n",
        "            return\n",
        "        curr_node = self.head\n",
        "        prev_node = None\n",
        "        while curr_node:\n",
        "            if curr_node.data == data:\n",
        "                if curr_node == self.head:\n",
        "                    self.head = curr_node.next\n",
        "                else:\n",
        "                    prev_node.next = curr_node.next\n",
        "                return\n",
        "            prev_node = curr_node\n",
        "            curr_node = curr_node.next\n",
        "        prev_node.next = new_node\n",
        "\n",
        "    def print_list(self):\n",
        "        curr_node = self.head\n",
        "        while curr_node:\n",
        "            print(curr_node.data, end=\" \")\n",
        "            curr_node = curr_node.next\n",
        "        print()\n",
        "\n",
        "\n",
        "linked_list = LinkedList()\n",
        "linked_list.append(1)\n",
        "linked_list.append(2)\n",
        "linked_list.append(1)\n",
        "linked_list.append(3)\n",
        "linked_list.append(2)\n",
        "\n",
        "print(\"Original List:\")\n",
        "linked_list.print_list()\n"
      ],
      "metadata": {
        "id": "hR8jq5qCiaRt",
        "outputId": "cd32415d-11e4-439f-cfbb-14a8f86d6990",
        "colab": {
          "base_uri": "https://localhost:8080/"
        }
      },
      "execution_count": 33,
      "outputs": [
        {
          "output_type": "stream",
          "name": "stdout",
          "text": [
            "Original List:\n",
            "3 \n"
          ]
        }
      ]
    },
    {
      "cell_type": "code",
      "source": [
        "#que no 3\n",
        "class Node:\n",
        "    def __init__(self, data=None):\n",
        "        self.data = data\n",
        "        self.next = None\n",
        "        \n",
        "class LinkedList:\n",
        "    def __init__(self):\n",
        "        self.head = None\n",
        "        \n",
        "    def append(self, data):\n",
        "        new_node = Node(data)\n",
        "        if not self.head:\n",
        "            self.head = new_node\n",
        "            return\n",
        "        curr_node = self.head\n",
        "        while curr_node.next:\n",
        "            curr_node = curr_node.next\n",
        "        curr_node.next = new_node\n",
        "        \n",
        "    def delete_dupl_Node(self):\n",
        "        if not self.head:\n",
        "            return\n",
        "        curr_node = self.head\n",
        "        while curr_node:\n",
        "            prev_node = curr_node\n",
        "            next_node = curr_node.next\n",
        "            while next_node:\n",
        "                if next_node.data == curr_node.data:\n",
        "                    prev_node.next = next_node.next\n",
        "                    next_node = next_node.next\n",
        "                else:\n",
        "                    prev_node = next_node\n",
        "                    next_node = next_node.next\n",
        "            curr_node = curr_node.next\n",
        "            \n",
        "    def print_list(self):\n",
        "        curr_node = self.head\n",
        "        while curr_node:\n",
        "            print(curr_node.data, end=\" \")\n",
        "            curr_node = curr_node.next\n",
        "        print()\n",
        "\n",
        "\n",
        "linked_list = LinkedList()\n",
        "linked_list.append(1)\n",
        "linked_list.append(2)\n",
        "linked_list.append(1)\n",
        "linked_list.append(3)\n",
        "linked_list.append(2)\n",
        "print(\"Original List:\")\n",
        "linked_list.print_list()\n",
        "linked_list.delete_dupl_Node()\n",
        "print(\"List after removing duplicates:\")\n",
        "linked_list.print_list()\n"
      ],
      "metadata": {
        "id": "fLDGxXoVjKRX",
        "outputId": "1d7649d0-8ae6-4723-bc36-5926d9080955",
        "colab": {
          "base_uri": "https://localhost:8080/"
        }
      },
      "execution_count": 28,
      "outputs": [
        {
          "output_type": "stream",
          "name": "stdout",
          "text": [
            "Original List:\n",
            "1 2 1 3 2 \n",
            "List after removing duplicates:\n",
            "1 2 3 \n"
          ]
        }
      ]
    },
    {
      "cell_type": "code",
      "source": [
        "#que no.4\n",
        "\n",
        "class Node:\n",
        "    def __init__(self, data=None):\n",
        "        self.data = data\n",
        "        self.next = None\n",
        "        \n",
        "class LinkedList:\n",
        "    def __init__(self):\n",
        "        self.head = None\n",
        "        \n",
        "    def append(self, data):\n",
        "        new_node = Node(data)\n",
        "        if not self.head:\n",
        "            self.head = new_node\n",
        "            return\n",
        "        curr_node = self.head\n",
        "        while curr_node.next:\n",
        "            curr_node = curr_node.next\n",
        "        curr_node.next = new_node\n",
        "        \n",
        "    def Reverse_Node(self):\n",
        "        if not self.head:\n",
        "            return\n",
        "        prev_node = None\n",
        "        curr_node = self.head\n",
        "        while curr_node:\n",
        "            next_node = curr_node.next\n",
        "            curr_node.next = prev_node\n",
        "            prev_node = curr_node\n",
        "            curr_node = next_node\n",
        "        self.head = prev_node\n",
        "            \n",
        "    def print_list(self):\n",
        "        curr_node = self.head\n",
        "        while curr_node:\n",
        "            print(curr_node.data, end=\" \")\n",
        "            curr_node = curr_node.next\n",
        "        print()\n",
        "\n",
        "linked_list = LinkedList()\n",
        "linked_list.append(1)\n",
        "linked_list.append(2)\n",
        "linked_list.append(3)\n",
        "print(\"Original List:\")\n",
        "linked_list.print_list()\n",
        "linked_list.Reverse_Node()\n",
        "print(\"Reversed List:\")\n",
        "linked_list.print_list()\n",
        "\n",
        "\n",
        "      \n"
      ],
      "metadata": {
        "id": "qfVZiV0FkMoY",
        "outputId": "97c3597f-d4e8-4ca5-b957-ff14e3be32b4",
        "colab": {
          "base_uri": "https://localhost:8080/"
        }
      },
      "execution_count": 34,
      "outputs": [
        {
          "output_type": "stream",
          "name": "stdout",
          "text": [
            "Original List:\n",
            "1 2 3 \n",
            "Reversed List:\n",
            "3 2 1 \n"
          ]
        }
      ]
    },
    {
      "cell_type": "code",
      "source": [
        "#question 5\n",
        "class Node:\n",
        "    def __init__(self, data=None):\n",
        "        self.data = data\n",
        "        self.next = None\n",
        "\n",
        "class LinkedList:\n",
        "    def __init__(self):\n",
        "        self.head = None\n",
        "\n",
        "    def append(self, data):\n",
        "        new_node = Node(data)\n",
        "        if not self.head:\n",
        "            self.head = new_node\n",
        "            return\n",
        "        curr_node = self.head\n",
        "        while curr_node.next:\n",
        "            curr_node = curr_node.next\n",
        "        curr_node.next = new_node\n",
        "\n",
        "    def average_list(self):\n",
        "        if not self.head:\n",
        "            return 0.0\n",
        "        total = 0\n",
        "        count = 0\n",
        "        curr_node = self.head\n",
        "        while curr_node:\n",
        "            total += curr_node.data\n",
        "            count += 1\n",
        "            curr_node = curr_node.next\n",
        "        return float(total) / count\n",
        "\n",
        "    def print_list(self):\n",
        "        curr_node = self.head\n",
        "        while curr_node:\n",
        "            print(curr_node.data, end=\" \")\n",
        "            curr_node = curr_node.next\n",
        "        print()\n",
        "\n",
        "\n",
        "linked_list = LinkedList()\n",
        "linked_list.append(1)\n",
        "linked_list.append(2)\n",
        "linked_list.append(3)\n",
        "print(\"Original List:\")\n",
        "linked_list.print_list()\n",
        "avg = linked_list.average_list()\n",
        "print(\"Average value:\", avg)\n",
        "\n",
        "        \n",
        "            "
      ],
      "metadata": {
        "id": "meAwrC3o3Lcx",
        "outputId": "4e4fe30b-ff3f-4bf9-938a-e8f0cb266560",
        "colab": {
          "base_uri": "https://localhost:8080/"
        }
      },
      "execution_count": 31,
      "outputs": [
        {
          "output_type": "stream",
          "name": "stdout",
          "text": [
            "Original List:\n",
            "1 2 3 \n",
            "Average value: 2.0\n"
          ]
        }
      ]
    }
  ]
}