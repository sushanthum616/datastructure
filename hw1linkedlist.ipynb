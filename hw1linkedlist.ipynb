{
  "nbformat": 4,
  "nbformat_minor": 0,
  "metadata": {
    "colab": {
      "provenance": [],
      "authorship_tag": "ABX9TyNYpXP13OAquXD9tUdjWvWr",
      "include_colab_link": true
    },
    "kernelspec": {
      "name": "python3",
      "display_name": "Python 3"
    },
    "language_info": {
      "name": "python"
    }
  },
  "cells": [
    {
      "cell_type": "markdown",
      "metadata": {
        "id": "view-in-github",
        "colab_type": "text"
      },
      "source": [
        "<a href=\"https://colab.research.google.com/github/sushanthum616/datastructure/blob/main/hw1linkedlist.ipynb\" target=\"_parent\"><img src=\"https://colab.research.google.com/assets/colab-badge.svg\" alt=\"Open In Colab\"/></a>"
      ]
    },
    {
      "cell_type": "code",
      "execution_count": null,
      "metadata": {
        "colab": {
          "base_uri": "https://localhost:8080/"
        },
        "id": "o9vtJrQSd4BG",
        "outputId": "b02e9701-7875-4857-ce9e-0fbb0b69eef2"
      },
      "outputs": [
        {
          "output_type": "stream",
          "name": "stdout",
          "text": [
            "HEAD->2->3->NULL\n"
          ]
        }
      ],
      "source": [
        "#que no.1\n",
        "class Node:\n",
        "    def __init__(self, data=0, next=None):\n",
        "        self.data = data   \n",
        "        self.next = next   \n",
        "\n",
        "def Delete_LinkList_Node(head, key):\n",
        "    dummy = Node(0)                          # create a dummy node with data=0, next pointing to the original head\n",
        "    dummy.next = head  \n",
        "    prev = dummy        \n",
        "    curr = head         \n",
        "    while curr:\n",
        "        if curr.data == key:                 # if the curr. node's data equals the key\n",
        "            prev.next = curr.next            # set the next attr.of prev node to the next of curr node\n",
        "        else:\n",
        "            prev = curr                      # set prev node to curr node\n",
        "        curr = curr.next                     # move curr to the next node\n",
        "    return dummy.next                        # ret. the next node of dummy node\n",
        "\n",
        "# Def. the linked list with val. in each node  \n",
        "head = Node(1)  \n",
        "head.next = Node(2)  \n",
        "head.next.next = Node(1) \n",
        "head.next.next.next = Node(3)  \n",
        "\n",
        "new_head = Delete_LinkList_Node(head, 1)     # called del. fun. to del. node with key 1\n",
        "\n",
        "\n",
        "print(\"HEAD->\", end=\"\")                      # print all nodes after remv. node with key val. 1\n",
        "curr = new_head                              # set curr to the head of the modi. linked list\n",
        "while curr:\n",
        "    print(curr.data, end=\"->\")             # print the current node's data and \"->\" without newline\n",
        "    curr = curr.next                       # move curr to the next node\n",
        "print(\"NULL\")  \n",
        "\n"
      ]
    },
    {
      "cell_type": "code",
      "source": [
        "#question no.2\n",
        "class Node:\n",
        "    def __init__(self, data):\n",
        "        self.data = data  \n",
        "\n",
        "class LinkedList:\n",
        "    def __init__(self):\n",
        "        self.head = Node(None)  \n",
        "        \n",
        "    def Delete_Dupl_Node(self):\n",
        "        if self.head is None:  \n",
        "            return\n",
        "        \n",
        "        curr = self.head.next                       # start at the first actual node after the dummy node\n",
        "        while curr:\n",
        "            runner = curr\n",
        "            while runner.next:                     # keep moving runner forw. while runner.next exists \n",
        "                if runner.next.data == curr.data:   # check if runner.next node has same data as curr node\n",
        "                    runner.next = runner.next.next  # remv. runner.next node by mkng. runner.next equal to runner.next.next\n",
        "                else:\n",
        "                    runner = runner.next            # move runner forward if runner.next data is not equal to curr.data\n",
        "            curr = curr.next                        # move curr forward\n",
        "\n",
        "a = LinkedList()\n",
        "a.head.next = Node(3)                            # add a node with data 3 after the dummy node\n",
        "a.Delete_Dupl_Node()                             # call the function to remove duplicates in the linked list\n",
        "\n",
        "curr = a.head.next                               # start at the first actual node after the dummy node\n",
        "result = \"Head->\"  \n",
        "while curr:\n",
        "    result += str(curr.data) + \"->\"              # add the data of curr node to the result string\n",
        "    curr = curr.next                             # move curr forward\n",
        "\n",
        "result += \"NULL\"  \n",
        "print(result)  \n"
      ],
      "metadata": {
        "id": "hR8jq5qCiaRt",
        "outputId": "b890835d-90b9-437c-b9fb-a09e99a60b78",
        "colab": {
          "base_uri": "https://localhost:8080/"
        }
      },
      "execution_count": null,
      "outputs": [
        {
          "output_type": "stream",
          "name": "stdout",
          "text": [
            "Head->3->NULL\n"
          ]
        }
      ]
    },
    {
      "cell_type": "code",
      "source": [
        "#que no 3\n",
        "class Node:\n",
        "    def __init__(self, data):\n",
        "        self.data = data  \n",
        "        self.next = None  \n",
        "\n",
        "class LinkedList:\n",
        "    def __init__(self):\n",
        "        self.head = Node(None) \n",
        "        \n",
        "    def Delete_Dupl_Node(self):\n",
        "        if self.head is None:  \n",
        "            return\n",
        "        \n",
        "        curr = self.head.next                       # start at the first actual node after the dummy node\n",
        "        while curr:\n",
        "            runner = curr\n",
        "            while runner.next: \n",
        "                if runner.next.data == curr.data:   # check if runner.next node has same data as curr node\n",
        "                    runner.next = runner.next.next  # remove runner.next node by making runner.next equal to runner.next.next\n",
        "                else:\n",
        "                    runner = runner.next            # move runner forward if runner.next data is not equal to curr.data\n",
        "            curr = curr.next                        # move curr forward\n",
        "\n",
        "a = LinkedList()                                    # create a LinkedList object and create node data  \n",
        "a.head.next = Node(1)  \n",
        "node2 = Node(2)  \n",
        "node3 = Node(1) \n",
        "node4 = Node(3)  \n",
        "node5 = Node(2)  \n",
        "# connec. node after node \n",
        "a.head.next.next = node2 \n",
        "node2.next = node3 \n",
        "node3.next = node4  \n",
        "node4.next = node5  \n",
        "\n",
        "a.Delete_Dupl_Node()                                  #  fun. to remove dupli. in the linked list\n",
        "\n",
        "curr = a.head.next                                    # start at the first actual node after the dummy node\n",
        "result = \"Head->\"  \n",
        "while curr:\n",
        "    result += str(curr.data) + \"->\"  \n",
        "    curr = curr.next  \n",
        "\n",
        "result += \"NULL\"  \n",
        "print(result)  \n",
        "\n"
      ],
      "metadata": {
        "id": "fLDGxXoVjKRX",
        "outputId": "9e51fb66-1eb6-4ee1-f988-412db7f5527a",
        "colab": {
          "base_uri": "https://localhost:8080/"
        }
      },
      "execution_count": null,
      "outputs": [
        {
          "output_type": "stream",
          "name": "stdout",
          "text": [
            "Head->3->2->1->NULL\n"
          ]
        }
      ]
    },
    {
      "cell_type": "code",
      "source": [
        "#que no.4\n",
        "\n",
        "class Node:\n",
        "    def __init__(self, data):\n",
        "        self.data = data  \n",
        "\n",
        "class LinkedList:\n",
        "    def __init__(self):\n",
        "        self.head = Node(None)  \n",
        "        \n",
        "    \n",
        "    def Reverse_Node(self):\n",
        "        if self.head is None or self.head.next is None:\n",
        "            return                       # list is empty or has only one node, no need to reverse\n",
        "         \n",
        "        prev = None                      # keep track of the previous node\n",
        "        curr = self.head.next            # starting node, head points to None which is not part of the list\n",
        "       \n",
        "  \n",
        "        while curr:\n",
        "            next_node = curr.next     # store the next node before updating the 'next' pointer\n",
        "            curr.next = prev          # reverse the 'next' pointer to point to the previous node\n",
        "            prev = curr               # update the previous node to the current node\n",
        "            curr = next_node          # update the current node to the next node\n",
        "        \n",
        "        self.head.next = prev         # head should now point to the last node, which was previously the first node\n",
        "\n",
        "# Creating linked list with nodes 1 2 and  3\n",
        "a = LinkedList()\n",
        "a.head.next = Node(1)\n",
        "node2 = Node(2)\n",
        "node3 = Node(3)\n",
        "\n",
        "a.head.next.next = node2\n",
        "node2.next = node3\n",
        "\n",
        "a.Reverse_Node()  # reverse the linked list\n",
        "\n",
        "# Traverse and print the reversed linked list\n",
        "curr = a.head.next\n",
        "result = \"Head->\"\n",
        "while curr:\n",
        "    result += str(curr.data) + \"->\"\n",
        "    curr = curr.next\n",
        "\n",
        "result += \"NULL\"\n",
        "print(result)\n",
        "\n"
      ],
      "metadata": {
        "id": "qfVZiV0FkMoY",
        "outputId": "1fd6fc91-fa8b-4529-be5f-b1b9277cc4cc",
        "colab": {
          "base_uri": "https://localhost:8080/"
        }
      },
      "execution_count": null,
      "outputs": [
        {
          "output_type": "stream",
          "name": "stdout",
          "text": [
            "Head->3->2->1->NULL\n"
          ]
        }
      ]
    },
    {
      "cell_type": "code",
      "source": [
        "#question no.5\n",
        "class Node:\n",
        "    def __init__(self, val):\n",
        "        self.val = val    \n",
        "        self.next = None  \n",
        "\n",
        "\n",
        "class LinkedList:\n",
        "    def __init__(self):\n",
        "        self.head = None  \n",
        "        \n",
        "    \n",
        "    def add_node(self, val):\n",
        "        \n",
        "        new_node = Node(val)                        #create new node with value\n",
        "        \n",
        "       \n",
        "        if self.head is None:\n",
        "            self.head = new_node\n",
        "            return\n",
        "        \n",
        "        # iterate to the last node of the linked list\n",
        "        last = self.head\n",
        "        while last.next:\n",
        "            last = last.next\n",
        "        \n",
        "        # add the new node to the end of the linked list\n",
        "        last.next = new_node\n",
        "        \n",
        "    \n",
        "    def average_list(self):                         # def. func. to cal. avr. value\n",
        "        # if head is None, return 0\n",
        "        if self.head is None:\n",
        "            return 0\n",
        "        \n",
        "        curr = self.head\n",
        "        \n",
        "        count = 0\n",
        "        sum = 0\n",
        "        \n",
        "        # iter. throu. all nodes in the linked list\n",
        "        while curr:\n",
        "            count += 1  \n",
        "            sum += curr.val                           # add the value of the node to the sum\n",
        "            curr = curr.next                          # move to the next node\n",
        "        \n",
        "       \n",
        "        return sum / count                             # return avr. value\n",
        "\n",
        "a = LinkedList()\n",
        "\n",
        "# add three nodes with values 1, 2, and 3 to the linked list\n",
        "a.add_node(1)\n",
        "a.add_node(2)\n",
        "a.add_node(3)\n",
        "\n",
        "print(\"the average of the linklist is\", a.average_list())\n"
      ],
      "metadata": {
        "id": "meAwrC3o3Lcx",
        "outputId": "9cb67c89-4046-4397-972b-a016a794aa25",
        "colab": {
          "base_uri": "https://localhost:8080/"
        }
      },
      "execution_count": 1,
      "outputs": [
        {
          "output_type": "stream",
          "name": "stdout",
          "text": [
            "the average of the linklist is 2.0\n"
          ]
        }
      ]
    }
  ]
}