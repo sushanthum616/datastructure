{
  "nbformat": 4,
  "nbformat_minor": 0,
  "metadata": {
    "colab": {
      "provenance": [],
      "authorship_tag": "ABX9TyNs1ZqX06XicffkcXzbzYHo",
      "include_colab_link": true
    },
    "kernelspec": {
      "name": "python3",
      "display_name": "Python 3"
    },
    "language_info": {
      "name": "python"
    }
  },
  "cells": [
    {
      "cell_type": "markdown",
      "metadata": {
        "id": "view-in-github",
        "colab_type": "text"
      },
      "source": [
        "<a href=\"https://colab.research.google.com/github/sushanthum616/datastructure/blob/main/hw1linkedlist.ipynb\" target=\"_parent\"><img src=\"https://colab.research.google.com/assets/colab-badge.svg\" alt=\"Open In Colab\"/></a>"
      ]
    },
    {
      "cell_type": "code",
      "execution_count": 1,
      "metadata": {
        "colab": {
          "base_uri": "https://localhost:8080/"
        },
        "id": "o9vtJrQSd4BG",
        "outputId": "b02e9701-7875-4857-ce9e-0fbb0b69eef2"
      },
      "outputs": [
        {
          "output_type": "stream",
          "name": "stdout",
          "text": [
            "HEAD->2->3->NULL\n"
          ]
        }
      ],
      "source": [
        "class Node:\n",
        "    def __init__(self, data=0, next=None): #initialize data and next for node\n",
        "        self.data = data\n",
        "        self.next = next\n",
        "\n",
        "def Delete_LinkList_Node(head, key):\n",
        "    dummy = Node(0)         #create dummy node with data set to 0 and point to head\n",
        "    dummy.next = head\n",
        "    prev = dummy\n",
        "    curr = head\n",
        "    while curr:\n",
        "        if curr.data == key:\n",
        "            prev.next = curr.next\n",
        "        else:\n",
        "            prev = curr\n",
        "        curr = curr.next\n",
        "    return dummy.next\n",
        "# Define the linked list\n",
        "head = Node(1)\n",
        "head.next = Node(2)\n",
        "head.next.next = Node(1)\n",
        "head.next.next.next = Node(3)\n",
        "\n",
        "# Call the Delete_LinkList_Node function\n",
        "new_head = Delete_LinkList_Node(head, 1)\n",
        "\n",
        "# Print the linked list after removing all nodes with value 1\n",
        "print(\"HEAD->\", end=\"\")\n",
        "curr = new_head\n",
        "while curr:\n",
        "    print(curr.data, end=\"->\")\n",
        "    curr = curr.next\n",
        "print(\"NULL\")\n",
        "\n",
        "\n"
      ]
    },
    {
      "cell_type": "code",
      "source": [
        "class Node:\n",
        "    def __init__(self, value):\n",
        "        self.value = value\n",
        "        self.next = None\n",
        "\n",
        "def delete_node_value(head):\n",
        "    if head is None:\n",
        "        return head\n",
        "\n",
        "    # Create a dummy node to simplify the code\n",
        "    dummy = Node(None)\n",
        "    dummy.next = head\n",
        "\n",
        "    # Create a hash set to store unique values\n",
        "    values = set()\n",
        "\n",
        "    # Keep track of the previous node\n",
        "    prev = dummy\n",
        "\n",
        "    while head is not None:\n",
        "        if head.value in values:\n",
        "            # Skip over the duplicated node\n",
        "            prev.next = head.next\n",
        "        else:\n",
        "            # Add the current node's value to the set if it's unique\n",
        "            values.add(head.value)\n",
        "            prev = head\n",
        "\n",
        "        head = head.next\n",
        "\n",
        "    return dummy.next\n",
        "# Create a linked list with duplicated values\n",
        "head = Node(1)\n",
        "head.next = Node(2)\n",
        "head.next.next = Node(1)\n",
        "head.next.next.next = Node(3)\n",
        "head.next.next.next.next = Node(2)\n",
        "\n",
        "# Remove duplicated values from the linked list\n",
        "head = delete_node_value(head)\n",
        "\n",
        "# Print the head of the linked list\n",
        "print(\"Head:\", head.value, end=\" -> \")\n",
        "\n",
        "# Print the linked list\n",
        "current = head\n",
        "while current.next is not None:\n",
        "    print(current.value, end=\" -> \")\n",
        "    current = current.next\n",
        "\n",
        "# Print the tail of the linked list\n",
        "print(\"Tail\")\n"
      ],
      "metadata": {
        "colab": {
          "base_uri": "https://localhost:8080/"
        },
        "id": "pjfXQM-Zkl22",
        "outputId": "8477eb01-91d0-49d3-d2e1-aa571c36302c"
      },
      "execution_count": 2,
      "outputs": [
        {
          "output_type": "stream",
          "name": "stdout",
          "text": [
            "Head: 1 -> 1 -> 2 -> Tail\n"
          ]
        }
      ]
    }
  ]
}