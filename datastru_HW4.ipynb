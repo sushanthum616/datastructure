{
  "nbformat": 4,
  "nbformat_minor": 0,
  "metadata": {
    "colab": {
      "provenance": [],
      "authorship_tag": "ABX9TyMoj8gi2CgvR+m6WDa9cl+9",
      "include_colab_link": true
    },
    "kernelspec": {
      "name": "python3",
      "display_name": "Python 3"
    },
    "language_info": {
      "name": "python"
    }
  },
  "cells": [
    {
      "cell_type": "markdown",
      "metadata": {
        "id": "view-in-github",
        "colab_type": "text"
      },
      "source": [
        "<a href=\"https://colab.research.google.com/github/sushanthum616/datastructure/blob/main/datastru_HW4.ipynb\" target=\"_parent\"><img src=\"https://colab.research.google.com/assets/colab-badge.svg\" alt=\"Open In Colab\"/></a>"
      ]
    },
    {
      "cell_type": "code",
      "execution_count": null,
      "metadata": {
        "colab": {
          "base_uri": "https://localhost:8080/"
        },
        "id": "mkY1IGlmZiDc",
        "outputId": "f413b764-7eea-4a37-f433-8e9603c5a158"
      },
      "outputs": [
        {
          "output_type": "stream",
          "name": "stdout",
          "text": [
            "head->S->t->i->n->g\n",
            "head->S->t->r->n->g\n"
          ]
        }
      ],
      "source": [
        "#question 1\n",
        "import numpy as np\n",
        "\n",
        "class Node:\n",
        "    def __init__(self, data, idx):\n",
        "        self.data = data\n",
        "        self.idx = idx\n",
        "\n",
        "def insertElem(ls, index, data):\n",
        "    new_node = Node(data, None)\n",
        "    if index == 0:\n",
        "        new_node.idx = 1\n",
        "        ls[0].idx = 2\n",
        "        new_node.idx = ls[0].idx\n",
        "        ls[0] = new_node\n",
        "    else:\n",
        "        prev_node = ls[index - 1]\n",
        "        next_node = ls[index]\n",
        "        prev_node.idx = index + 1\n",
        "        new_node.idx = next_node.idx\n",
        "        prev_node.idx = new_node.idx\n",
        "        ls[index] = new_node\n",
        "\n",
        "elm0 = Node(\"head\", 1)\n",
        "elm1 = Node(\"S\", 2)\n",
        "elm2 = Node(\"t\", 3)\n",
        "elm3 = Node(\"i\", 4)\n",
        "elm4 = Node(\"n\", 5)\n",
        "elm5 = Node(\"g\", None)\n",
        "\n",
        "ls = np.array([elm0, elm1, elm2, elm3, elm4, elm5])\n",
        "\n",
        "print('->'.join([node.data for node in ls]))\n",
        "\n",
        "insertElem(ls, 3, 'r')\n",
        "\n",
        "print('->'.join([node.data for node in ls]))\n"
      ]
    },
    {
      "cell_type": "code",
      "source": [
        "#question 2\n",
        "class Node:\n",
        "    def __init__(self, data, next_node=None):\n",
        "        self.data = data\n",
        "        self.next = next_node\n",
        "\n",
        "def to_char_list(head):\n",
        "    node = head\n",
        "    char_head = Node(None)\n",
        "    char_node = char_head\n",
        "\n",
        "    while node:\n",
        "        data = node.data\n",
        "        if data < 1 or data > 26:\n",
        "            char_data = '#'\n",
        "        else:\n",
        "            char_data = chr(data + 64) # convert int to ASCII character\n",
        "        char_node.next = Node(char_data)\n",
        "        char_node = char_node.next\n",
        "        node = node.next\n",
        "\n",
        "    return char_head.next\n",
        "\n",
        "def convert_linked_lists(heads):\n",
        "    char_lists = []\n",
        "    for head in heads:\n",
        "        char_lists.append(to_char_list(head))\n",
        "    return char_lists\n",
        "\n",
        "lst0 = Node(1, Node(2, Node(2, Node(1))))\n",
        "lst1 = Node(12, Node(2, Node(1)))\n",
        "lst2 = Node(1, Node(22, Node(1)))\n",
        "lst3 = Node(1, Node(2, Node(21)))\n",
        "\n",
        "\n",
        "char_lists = convert_linked_lists([lst0, lst1, lst2, lst3])\n",
        "\n",
        "for i, char_list in enumerate(char_lists):\n",
        "    print(f\"lst{i}: \", end=\"\")\n",
        "    node = char_list\n",
        "    while node:\n",
        "        print(node.data, end=\"->\")\n",
        "        node = node.next\n",
        "    print(\"None\")\n"
      ],
      "metadata": {
        "colab": {
          "base_uri": "https://localhost:8080/"
        },
        "id": "25olR0FiaJ78",
        "outputId": "c680d0ae-0b71-46d0-9002-56a8eab68e46"
      },
      "execution_count": null,
      "outputs": [
        {
          "output_type": "stream",
          "name": "stdout",
          "text": [
            "lst0: A->B->B->A->None\n",
            "lst1: L->B->A->None\n",
            "lst2: A->V->A->None\n",
            "lst3: A->B->U->None\n"
          ]
        }
      ]
    },
    {
      "cell_type": "code",
      "source": [
        "#que no 3\n",
        "def partition_equal_sum(arr, idx, sum1, sum2, ls1, ls2):\n",
        "    if idx == len(arr):\n",
        "        return sum1 == sum2 and len(ls1) > 0 and len(ls2) > 0\n",
        "\n",
        "    ls1.append(arr[idx])\n",
        "    if partition_equal_sum(arr, idx + 1, sum1 + arr[idx], sum2, ls1, ls2):\n",
        "        return True\n",
        "    ls1.pop()\n",
        "\n",
        "    ls2.append(arr[idx])\n",
        "    if partition_equal_sum(arr, idx + 1, sum1, sum2 + arr[idx], ls1, ls2):\n",
        "        return True\n",
        "    ls2.pop()\n",
        "    return False\n",
        "    \n",
        "arr = [1, 3, 2, 1, 2, 1]\n",
        "ls1, ls2 = [], []\n",
        "if partition_equal_sum(arr, 0, 0, 0, ls1, ls2):\n",
        "    print(\"Partition found:\")\n",
        "    print(ls1, ls2)\n",
        "else:\n",
        "    print(\"Array cannot be partitioned into two subsets with equal sum.\")\n"
      ],
      "metadata": {
        "colab": {
          "base_uri": "https://localhost:8080/"
        },
        "id": "dwLnMtq-ap_J",
        "outputId": "72e15656-4ff7-4fd1-9d01-e313c5f33414"
      },
      "execution_count": null,
      "outputs": [
        {
          "output_type": "stream",
          "name": "stdout",
          "text": [
            "Partition found:\n",
            "[1, 3, 1] [2, 2, 1]\n"
          ]
        }
      ]
    },
    {
      "cell_type": "code",
      "source": [
        "#que no 4\n",
        "def max_difference(a):\n",
        "    n = len(a)\n",
        "    max_val = float('-inf')\n",
        "    \n",
        "    for u in range(n):\n",
        "        for v in range(u):\n",
        "            for w in range(v, n):\n",
        "                for x in range(w):\n",
        "                    max_val = max(max_val, a[u] - a[v] + a[w] - a[x])\n",
        "                    \n",
        "    return max_val\n",
        "\n",
        "a = [3, 9, 10, 1, 30, 40]\n",
        "max_val = max_difference(a)\n",
        "print(\"Maximum value:\", max_val)\n"
      ],
      "metadata": {
        "colab": {
          "base_uri": "https://localhost:8080/"
        },
        "id": "NtPqzSC7dRZM",
        "outputId": "f130c435-3760-4c3e-8080-5cd5d703ac0b"
      },
      "execution_count": null,
      "outputs": [
        {
          "output_type": "stream",
          "name": "stdout",
          "text": [
            "Maximum value: 78\n"
          ]
        }
      ]
    },
    {
      "cell_type": "code",
      "source": [
        "#que no.5\n",
        "def combin_all_ele(arr, elem, n):\n",
        " \n",
        "\n",
        "    if (elem > n):\n",
        "     \n",
        "        for i in (arr):\n",
        "            print(i, end = \" \")\n",
        "             \n",
        "        print(\"\")\n",
        "        return\n",
        " \n",
        "    for i in range(0, 2 * n):\n",
        "\n",
        "        if (arr[i] == -1 and\n",
        "           (i + elem + 1) < 2*n and\n",
        "           arr[i + elem + 1] == -1):\n",
        "\n",
        "            arr[i] = elem\n",
        "            arr[i + elem + 1] = elem\n",
        " \n",
        "            combin_all_ele(arr, elem + 1, n)\n",
        "\n",
        "            arr[i] = -1\n",
        "            arr[i + elem + 1] = -1\n",
        "         \n",
        "def allCombinations(n):\n",
        " \n",
        "    arr = [-1] * (2 * n)\n",
        "    elem = 1\n",
        "\n",
        "    combin_all_ele(arr, elem, n)\n",
        "n = 3\n",
        "allCombinations(n)"
      ],
      "metadata": {
        "colab": {
          "base_uri": "https://localhost:8080/"
        },
        "id": "3gzsfz_neqN0",
        "outputId": "bba84b50-0be7-45dc-8074-ecb900a8cd1b"
      },
      "execution_count": null,
      "outputs": [
        {
          "output_type": "stream",
          "name": "stdout",
          "text": [
            "3 1 2 1 3 2 \n",
            "2 3 1 2 1 3 \n"
          ]
        }
      ]
    }
  ]
}